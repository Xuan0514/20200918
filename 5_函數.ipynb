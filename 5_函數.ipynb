{
  "nbformat": 4,
  "nbformat_minor": 0,
  "metadata": {
    "colab": {
      "name": "5_函數.ipynb",
      "provenance": [],
      "authorship_tag": "ABX9TyMvTR/SHEBQFF9XRj6vmYDN",
      "include_colab_link": true
    },
    "kernelspec": {
      "name": "python3",
      "display_name": "Python 3"
    }
  },
  "cells": [
    {
      "cell_type": "markdown",
      "metadata": {
        "id": "view-in-github",
        "colab_type": "text"
      },
      "source": [
        "<a href=\"https://colab.research.google.com/github/Xuan0514/20200918/blob/master/5_%E5%87%BD%E6%95%B8.ipynb\" target=\"_parent\"><img src=\"https://colab.research.google.com/assets/colab-badge.svg\" alt=\"Open In Colab\"/></a>"
      ]
    },
    {
      "cell_type": "code",
      "metadata": {
        "id": "qzPmfgV3txDq",
        "outputId": "ec8e9cb8-5090-4252-9677-1347ae9ee9ef",
        "colab": {
          "base_uri": "https://localhost:8080/",
          "height": 68
        }
      },
      "source": [
        "def sum(i1, i2):\n",
        "    result = 0\n",
        "    for i in range(i1, i2):\n",
        "        result += i\n",
        "    return result\n",
        "\n",
        "def main():\n",
        "    print(\"Sum from 1 to 10 is\", sum(1, 11)) \n",
        "    print(\"Sum from 20 to 37 is\", sum(20, 38))\n",
        "    print(\"Sum from 35 to 49 is\", sum(35, 50))\n",
        "\n",
        "main() # Call the main function"
      ],
      "execution_count": 1,
      "outputs": [
        {
          "output_type": "stream",
          "text": [
            "Sum from 1 to 10 is 55\n",
            "Sum from 20 to 37 is 513\n",
            "Sum from 35 to 49 is 630\n"
          ],
          "name": "stdout"
        }
      ]
    },
    {
      "cell_type": "code",
      "metadata": {
        "id": "6wHiWp5ct4s-",
        "outputId": "4e346260-fa9a-4183-9bae-41e89024623b",
        "colab": {
          "base_uri": "https://localhost:8080/",
          "height": 136
        }
      },
      "source": [
        "#!/usr/bin/python\n",
        "# -*- coding: UTF-8 -*-\n",
        " \n",
        "def swap(a,b):\n",
        "    a,b = b,a\n",
        "    return (a,b)\n",
        " \n",
        "if __name__ == '__main__':\n",
        "    x = 10\n",
        "    y = 20\n",
        "    print('x = %d,y = %d' % (x,y))\n",
        "    x,y = swap(x,y)\n",
        "    print('x = %d,y = %d' % (x,y))\n",
        "\"\"\"## Python Docstring\n",
        "\n",
        "\n",
        "https://stackoverflow.com/questions/3898572/what-is-the-standard-python-docstring-format\n",
        "\n",
        "\n",
        "Google Style Python Docstrings\n",
        "\n",
        "https://www.sphinx-doc.org/en/master/usage/extensions/example_google.html#example-google\n",
        "\n",
        "\n",
        "'''\n",
        "This is an example of Google style.\n",
        "\n",
        "Args:\n",
        "    param1: This is the first param.\n",
        "    param2: This is a second param.\n",
        "\n",
        "Returns:\n",
        "    This is a description of what is returned.\n",
        "\n",
        "Raises:\n",
        "    KeyError: Raises an exception.\n",
        "'''\n",
        "\"\"\"\n",
        "\n",
        "def demo():\n",
        "    \"\"\"函數的文件字串\"\"\"\n",
        "    pass\n",
        "    \n",
        "print(demo.__doc__)\n",
        "\n",
        "def swap(a,b):\n",
        "    \"\"\"\n",
        "    swap(a,b)功能是.................\n",
        "    \"\"\" \n",
        "    a,b = b,a\n",
        "    return (a,b)\n",
        "\n",
        "print(swap(3,5))\n",
        "print(swap.__doc__)"
      ],
      "execution_count": 2,
      "outputs": [
        {
          "output_type": "stream",
          "text": [
            "x = 10,y = 20\n",
            "x = 20,y = 10\n",
            "函數的文件字串\n",
            "(5, 3)\n",
            "\n",
            "    swap(a,b)功能是.................\n",
            "    \n"
          ],
          "name": "stdout"
        }
      ]
    },
    {
      "cell_type": "code",
      "metadata": {
        "id": "Uy2sQMC9t7Ql",
        "outputId": "15b1e80b-8fc5-433a-b7e4-abae8c31fc2a",
        "colab": {
          "base_uri": "https://localhost:8080/",
          "height": 52
        }
      },
      "source": [
        "## Python的函數可以回傳多個值(超棒der)\n",
        "\"\"\"\n",
        "\n",
        "#!/usr/bin/python \n",
        "# -*- coding: UTF-8 -*- \n",
        "\n",
        "def sort(number1, number2):\n",
        "    if number1 < number2:\n",
        "        return number1, number2\n",
        "    else:\n",
        "        return number2, number1\n",
        "\n",
        "num1, num2 = sort(31, 25)\n",
        "\n",
        "print(\"num1 is\", num1)\n",
        "print(\"num2 is\", num2)\n",
        "\n",
        "\"\"\"### [作業]:def sort(number1, number2, number3):"
      ],
      "execution_count": 3,
      "outputs": [
        {
          "output_type": "execute_result",
          "data": {
            "application/vnd.google.colaboratory.intrinsic+json": {
              "type": "string"
            },
            "text/plain": [
              "'\\n\\n#!/usr/bin/python \\n# -*- coding: UTF-8 -*- \\n\\ndef sort(number1, number2):\\n    if number1 < number2:\\n        return number1, number2\\n    else:\\n        return number2, number1\\n\\nnum1, num2 = sort(31, 25)\\n\\nprint(\"num1 is\", num1)\\nprint(\"num2 is\", num2)\\n\\n'"
            ]
          },
          "metadata": {
            "tags": []
          },
          "execution_count": 3
        }
      ]
    },
    {
      "cell_type": "code",
      "metadata": {
        "id": "cDCO84Mlt-KP",
        "outputId": "dcedca7b-e540-4665-f960-a112e1fb9ecf",
        "colab": {
          "base_uri": "https://localhost:8080/",
          "height": 102
        }
      },
      "source": [
        "#!/usr/bin/python \n",
        "# -*- coding: UTF-8 -*- \n",
        "\n",
        "def printArea(width = 11, height = 12):\n",
        "    area = width * height\n",
        "    print(\"width:\", width, \"\\theight:\", height, \"\\tarea:\", area)\n",
        "\n",
        "printArea() \n",
        "printArea(4, 2.5) # Positional arguments width = 4 and height = 2.5\n",
        "printArea(height = 5, width = 3) # Keyword arguments width \n",
        "printArea(width = 1.2) # Default height = 2\n",
        "printArea(height = 6.2) # Default widht = 1"
      ],
      "execution_count": 4,
      "outputs": [
        {
          "output_type": "stream",
          "text": [
            "width: 11 \theight: 12 \tarea: 132\n",
            "width: 4 \theight: 2.5 \tarea: 10.0\n",
            "width: 3 \theight: 5 \tarea: 15\n",
            "width: 1.2 \theight: 12 \tarea: 14.399999999999999\n",
            "width: 11 \theight: 6.2 \tarea: 68.2\n"
          ],
          "name": "stdout"
        }
      ]
    },
    {
      "cell_type": "code",
      "metadata": {
        "id": "g645DGSsuAx_",
        "outputId": "5fc00644-68eb-403a-bd10-88bd3a8e3a8e",
        "colab": {
          "base_uri": "https://localhost:8080/",
          "height": 85
        }
      },
      "source": [
        "#!/usr/bin/python \n",
        "# -*- coding: UTF-8 -*- \n",
        "\n",
        "def hello_3(greeting='Hello', name='world'): \n",
        "    print('{}, {}!'.format(greeting, name)) \n",
        "\n",
        "    \n",
        "hello_3() \n",
        "hello_3('Greetings') \n",
        "hello_3('Greetings', 'universe')\n",
        "hello_3(name='GGGGGGoood')"
      ],
      "execution_count": 5,
      "outputs": [
        {
          "output_type": "stream",
          "text": [
            "Hello, world!\n",
            "Greetings, world!\n",
            "Greetings, universe!\n",
            "Hello, GGGGGGoood!\n"
          ],
          "name": "stdout"
        }
      ]
    },
    {
      "cell_type": "code",
      "metadata": {
        "id": "NVC9HvUyuECS",
        "outputId": "91ef0888-a365-4c05-8161-97be90df4832",
        "colab": {
          "base_uri": "https://localhost:8080/",
          "height": 119
        }
      },
      "source": [
        "def print_params(*params): \n",
        "    print(params) \n",
        "\n",
        "print_params('Testing') \n",
        "\n",
        "print_params(1, 2, 3) \n",
        "\n",
        "# return的是tuple資料型態\n",
        "\n",
        "#可和一般參數齊用\n",
        "\n",
        "def print_params_2(title, *params): \n",
        "    print(title) \n",
        "    print(params)\n",
        "\n",
        "print_params_2('Params:', 1, 2, 3)\n",
        "print_params_2('Nothing:')"
      ],
      "execution_count": 6,
      "outputs": [
        {
          "output_type": "stream",
          "text": [
            "('Testing',)\n",
            "(1, 2, 3)\n",
            "Params:\n",
            "(1, 2, 3)\n",
            "Nothing:\n",
            "()\n"
          ],
          "name": "stdout"
        }
      ]
    },
    {
      "cell_type": "code",
      "metadata": {
        "id": "gwWMkuZLuIGb",
        "outputId": "a45a9081-bc07-4a85-aaf0-3a6f720c8393",
        "colab": {
          "base_uri": "https://localhost:8080/",
          "height": 136
        }
      },
      "source": [
        "def print_params_3(**params): \n",
        "    print(params) \n",
        "\n",
        "print_params_3(x=1, y=2, z=3) \n",
        "\n",
        "# return的是dict(字典資料型態)\n",
        "\n",
        "def print_params_4(x, y, z=3, *pospar, **keypar): \n",
        "    print(x, y, z) \n",
        "    print(pospar) \n",
        "    print(keypar) \n",
        "\n",
        "print_params_4(1, 2, 4, 5, 6, 7, foo=1, bar=2)\n",
        "\n",
        "print_params_4(1, 2)\n"
      ],
      "execution_count": 7,
      "outputs": [
        {
          "output_type": "stream",
          "text": [
            "{'x': 1, 'y': 2, 'z': 3}\n",
            "1 2 4\n",
            "(5, 6, 7)\n",
            "{'foo': 1, 'bar': 2}\n",
            "1 2 3\n",
            "()\n",
            "{}\n"
          ],
          "name": "stdout"
        }
      ]
    },
    {
      "cell_type": "code",
      "metadata": {
        "id": "N179Q8ntuK3k",
        "outputId": "3a09c44d-a580-47c9-f0a2-14b87cb05dd3",
        "colab": {
          "base_uri": "https://localhost:8080/",
          "height": 136
        }
      },
      "source": [
        "\n",
        "\n",
        "x = 111\n",
        "\n",
        "def f1():\n",
        "    x = 222\n",
        "    print(x) \n",
        "\n",
        "f1()\n",
        "print(x)\n",
        "\n",
        "x = 1\n",
        "\n",
        "def increase():\n",
        "    global x\n",
        "    x =  x + 1\n",
        "    print(x) \n",
        "\n",
        "increase()\n",
        "print(x)\n",
        "increase()\n",
        "increase()\n",
        "print(x)"
      ],
      "execution_count": 8,
      "outputs": [
        {
          "output_type": "stream",
          "text": [
            "222\n",
            "111\n",
            "2\n",
            "2\n",
            "3\n",
            "4\n",
            "4\n"
          ],
          "name": "stdout"
        }
      ]
    },
    {
      "cell_type": "code",
      "metadata": {
        "id": "_ZmvGI9FuNgl",
        "outputId": "c2796feb-49e7-4f8c-9a59-30cdbb8b7f10",
        "colab": {
          "base_uri": "https://localhost:8080/",
          "height": 34
        }
      },
      "source": [
        "f1 = lambda x, y, z: x+2*y+3*z\n",
        "print(f1(2,3,1))\n",
        "###在lambda 運算式中呼叫其他函式(重要技術)\n",
        "\n",
        "def myfunc(m):\n",
        "    return m*m\n",
        "\n",
        "my_list = [1, 3, 5, 7, 9]"
      ],
      "execution_count": 9,
      "outputs": [
        {
          "output_type": "stream",
          "text": [
            "11\n"
          ],
          "name": "stdout"
        }
      ]
    },
    {
      "cell_type": "code",
      "metadata": {
        "id": "oOvmA_CpuP6m",
        "outputId": "3570a51e-8685-4420-d494-52608ce9658d",
        "colab": {
          "base_uri": "https://localhost:8080/",
          "height": 51
        }
      },
      "source": [
        "#!/usr/bin/python\n",
        "# -*- coding: UTF-8 -*-\n",
        "\n",
        "def fib(n):\n",
        "    if n==1 or n==2:\n",
        "        return 1\n",
        "    return fib(n-1)+fib(n-2)\n",
        "\n",
        "print(fib(10))\n",
        "#方法二:使用 iterative\"\"\"\n",
        "#!/usr/bin/python\n",
        "# -*- coding: UTF-8 -*-\n",
        " \n",
        "def fib(n):\n",
        "    a,b = 1,1\n",
        "    for i in range(n-1):\n",
        "        a,b = b,a+b\n",
        "    return a\n",
        " \n",
        "\n",
        "print(fib(10))"
      ],
      "execution_count": 10,
      "outputs": [
        {
          "output_type": "stream",
          "text": [
            "55\n",
            "55\n"
          ],
          "name": "stdout"
        }
      ]
    },
    {
      "cell_type": "code",
      "metadata": {
        "id": "LYHe-CbRuTW9",
        "outputId": "bbac7cce-6789-4eb0-8a5a-f167d322ca90",
        "colab": {
          "base_uri": "https://localhost:8080/",
          "height": 187
        }
      },
      "source": [
        "#!/usr/bin/python\n",
        "# -*- coding: UTF-8 -*-\n",
        "\n",
        "def fib(x):\t\n",
        "\tglobal numFibCalls\n",
        "\tnumFibCalls += 1\n",
        "\t\n",
        "\tif x == 0 or x == 1:\n",
        "           return 1\n",
        "\telse:\n",
        "          return fib(x-1) + fib(x-2)\n",
        "\n",
        "def testFib(n):\n",
        "\tfor i in range(n+1):\n",
        "          global numFibCalls\n",
        "          numFibCalls = 0\n",
        "          print('fib of', i, '=', fib(i))\n",
        "          print('fib called', numFibCalls, 'times.')\n",
        "\n",
        "testFib(4)\n"
      ],
      "execution_count": 11,
      "outputs": [
        {
          "output_type": "stream",
          "text": [
            "fib of 0 = 1\n",
            "fib called 1 times.\n",
            "fib of 1 = 1\n",
            "fib called 1 times.\n",
            "fib of 2 = 2\n",
            "fib called 3 times.\n",
            "fib of 3 = 3\n",
            "fib called 5 times.\n",
            "fib of 4 = 5\n",
            "fib called 9 times.\n"
          ],
          "name": "stdout"
        }
      ]
    },
    {
      "cell_type": "code",
      "metadata": {
        "id": "0bj7yGSEuVkH",
        "outputId": "628de641-b274-4feb-bda7-88e2f086ec85",
        "colab": {
          "base_uri": "https://localhost:8080/",
          "height": 35
        }
      },
      "source": [
        "hex(255)\n",
        "\n",
        "hex(-42)\n",
        "\n",
        "\"\"\"### oct(x):Convert an integer number to an octal string prefixed with “0o”\"\"\"\n",
        "\n",
        "oct(8)\n",
        "\n",
        "oct(-56)\n",
        "\n",
        "\"\"\"### bin(x):Convert an integer number to a binary string prefixed with “0b”\"\"\"\n",
        "\n",
        "bin(3)\n",
        "\n",
        "bin(-10)"
      ],
      "execution_count": 12,
      "outputs": [
        {
          "output_type": "execute_result",
          "data": {
            "application/vnd.google.colaboratory.intrinsic+json": {
              "type": "string"
            },
            "text/plain": [
              "'-0b1010'"
            ]
          },
          "metadata": {
            "tags": []
          },
          "execution_count": 12
        }
      ]
    }
  ]
}